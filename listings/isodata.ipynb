{
 "metadata": {
  "name": "isodata"
 },
 "nbformat": 3,
 "nbformat_minor": 0,
 "worksheets": [
  {
   "cells": [
    {
     "cell_type": "markdown",
     "metadata": {},
     "source": [
      "# Berechnung von IsoData (Unsupervised Learning)\n",
      "\n",
      "0. generate data\n",
      "1. guess mu_i \n",
      "2. classify \n",
      "3. adapt mu_i\n",
      "4. -> 2"
     ]
    },
    {
     "cell_type": "code",
     "collapsed": false,
     "input": [
      "import numpy as np"
     ],
     "language": "python",
     "metadata": {},
     "outputs": [],
     "prompt_number": 143
    },
    {
     "cell_type": "code",
     "collapsed": false,
     "input": [
      "def newClass( mu, cov, count):\n",
      "    return numpy.random.multivariate_normal( mu, cov, count)"
     ],
     "language": "python",
     "metadata": {},
     "outputs": [],
     "prompt_number": 144
    },
    {
     "cell_type": "code",
     "collapsed": false,
     "input": [
      "X = numpy.vstack((\n",
      " newClass( [ 5, 4] , [[0.5,0.1], [0.3, 0.3] ], 20),\n",
      " newClass( [ 6, 3] , [[0.4,0.1], [0.5, 0.3] ], 20),\n",
      " newClass( [ 4, 7] , [[0.4,0.1], [0.3, 0.3] ], 20),\n",
      " newClass( [ 8, 6] , [[0.4,0.1], [0.6, 0.3] ], 20),\n",
      " newClass( [ 5, 1] , [[0.4,0.1], [0.2, 0.3] ], 20), \n",
      " newClass( [ 1, 4] , [[0.3,0.1], [0.3, 0.3] ], 20),\n",
      " newClass( [ 1, 1] , [[0.2,0.1], [0.6, 0.2] ], 20) ))"
     ],
     "language": "python",
     "metadata": {},
     "outputs": [],
     "prompt_number": 297
    },
    {
     "cell_type": "code",
     "collapsed": false,
     "input": [
      "classes, dim  = 2, 2"
     ],
     "language": "python",
     "metadata": {},
     "outputs": [],
     "prompt_number": 307
    },
    {
     "cell_type": "code",
     "collapsed": false,
     "input": [
      "def c(d, mu):\n",
      "    min_dist = np.inf\n",
      "    min_class = -1\n",
      "    for c, mu_c in enumerate(mu):\n",
      "        dist = np.linalg.norm( d - mu_c )\n",
      "        if dist <= min_dist:\n",
      "            min_class = c\n",
      "            min_dist = dist\n",
      "    return min_class\n",
      "\n",
      "def classify(data, mu):\n",
      "    classes = - np.ones(np.size(data,0))\n",
      "    for i,d in enumerate(data):      \n",
      "        classes[i] = c(d,mu)\n",
      "    return classes"
     ],
     "language": "python",
     "metadata": {},
     "outputs": [],
     "prompt_number": 299
    },
    {
     "cell_type": "code",
     "collapsed": false,
     "input": [
      "def recalculate(data, mu):\n",
      "    classes = classify(X, mu)\n",
      "    for i in range(0,np.size(mu,0)):\n",
      "        data_index = classes == i\n",
      "        \n",
      "        data_i = data[data_index]\n",
      "        if np.size(data_i,0) != 0:\n",
      "            mu[i,:] = mean(data_i,0)\n",
      "        \n",
      "    return mu\n",
      "    "
     ],
     "language": "python",
     "metadata": {},
     "outputs": [],
     "prompt_number": 300
    },
    {
     "cell_type": "code",
     "collapsed": false,
     "input": [
      "mu = newClass([3,3], [[3,0],[0,3]], classes)\n",
      "draw(X,mu)\n",
      "classify(X,mu)\n"
     ],
     "language": "python",
     "metadata": {},
     "outputs": [
      {
       "output_type": "pyout",
       "prompt_number": 308,
       "text": [
        "array([ 0.,  0.,  0.,  1.,  0.,  0.,  0.,  0.,  0.,  0.,  0.,  0.,  0.,\n",
        "        0.,  0.,  0.,  0.,  0.,  0.,  0.,  0.,  0.,  0.,  0.,  0.,  0.,\n",
        "        0.,  0.,  0.,  0.,  0.,  0.,  0.,  0.,  0.,  0.,  0.,  0.,  0.,\n",
        "        0.,  1.,  1.,  1.,  1.,  1.,  1.,  1.,  1.,  1.,  1.,  1.,  1.,\n",
        "        1.,  1.,  1.,  1.,  1.,  1.,  1.,  1.,  0.,  0.,  0.,  0.,  0.,\n",
        "        0.,  0.,  0.,  0.,  0.,  0.,  0.,  0.,  0.,  0.,  0.,  0.,  0.,\n",
        "        0.,  0.,  0.,  0.,  0.,  0.,  0.,  0.,  0.,  0.,  0.,  0.,  0.,\n",
        "        0.,  0.,  0.,  0.,  0.,  0.,  0.,  0.,  0.,  1.,  1.,  1.,  1.,\n",
        "        1.,  1.,  1.,  1.,  1.,  1.,  1.,  1.,  1.,  1.,  1.,  1.,  1.,\n",
        "        1.,  1.,  1.,  1.,  1.,  0.,  1.,  0.,  1.,  1.,  1.,  0.,  1.,\n",
        "        1.,  0.,  0.,  0.,  1.,  0.,  0.,  0.,  1.,  0.])"
       ]
      }
     ],
     "prompt_number": 308
    },
    {
     "cell_type": "code",
     "collapsed": false,
     "input": [
      "for n in range(0, 22):\n",
      "    mu_old = mu.copy()\n",
      "    mu = recalculate(X,mu)  \n",
      "mu"
     ],
     "language": "python",
     "metadata": {},
     "outputs": [
      {
       "output_type": "pyout",
       "prompt_number": 309,
       "text": [
        "array([[ 5.8066181 ,  4.98795592],\n",
        "       [ 2.16968557,  1.93274619]])"
       ]
      }
     ],
     "prompt_number": 309
    },
    {
     "cell_type": "code",
     "collapsed": false,
     "input": [
      "import  matplotlib.pylab as plt\n",
      "\n",
      "def draw(data,mu):\n",
      "    C = classify(X,mu)\n",
      "\n",
      "    figure()\n",
      "    scatter(X[:,0], X[:,1],  c=C,  s = 100)\n",
      "    scatter(mu[:,0], mu[:,1],c=range(0,classes),s=200)\n",
      "    show()\n"
     ],
     "language": "python",
     "metadata": {},
     "outputs": [],
     "prompt_number": 295
    },
    {
     "cell_type": "code",
     "collapsed": false,
     "input": [
      "draw(X,mu)"
     ],
     "language": "python",
     "metadata": {},
     "outputs": [],
     "prompt_number": 310
    },
    {
     "cell_type": "code",
     "collapsed": false,
     "input": [],
     "language": "python",
     "metadata": {},
     "outputs": []
    }
   ],
   "metadata": {}
  }
 ]
}